{
 "cells": [
  {
   "cell_type": "code",
   "execution_count": 15,
   "id": "783d0c20-5752-4a1c-8ffb-3379b87e5cec",
   "metadata": {},
   "outputs": [
    {
     "name": "stdout",
     "output_type": "stream",
     "text": [
      "\n",
      " Cluster 1\n",
      "- RT @sharpandshark: Gibran selalu sebut targetnya anak muda, kok anak muda malah buat VT seperti ini. https://t.co/xycIRmxBt6\n",
      "- RT @AntoniusCDN: Jangan panggil aku anak kecil paman... _____ Gibran Senin Sore https://t.co/8oRVCR2nY1\n",
      "- RT @ch_chotimah2: Semangat pagi-pagi🔥 Chusnul Chotimah: Jangan Terjebak Isu Hasto, Fokus Lengserkan Gibran. https://t.co/e55tGn30Up\n",
      "\n",
      " Cluster 2\n",
      "- RT @susipudjiastuti: @CNNIndonesia @prabowo @Gerindra @gibran_tweet @jokowi\n",
      "- @DivHumas_Polri @ListyoSigitP @gibran_tweet @prabowo Sampai GA BISA KOMEN 🤣🤣🤣🤣🤣🤣 https://t.co/cDCejmYsGB\n",
      "- RT @mediaindonesia: PDIP menilai Presiden Prabowo Subianto perlu merespons serius soal usulan purnawirawan TNI yang meminta Wakil Presiden…\n",
      "\n",
      " Cluster 3\n",
      "- RT @democrazymedia: Kritik Pidato Monolog Wapres, Pakar UGM: Gibran Tak Mengerti Masalah Hilirisasi, Dia Enggak Paham https://t.co/NsWSO53k…\n",
      "- RT @democrazymedia: Dihardik Senior, Prabowo Harus Dorong Pencopotan Gibran atau Akui Cuma Boneka Solo! https://t.co/8sR4EZFcUS\n",
      "- @KompasTV Sebaiknya Gibran menyadari keterbatasannya dan proses terpilihnya jadi Wapres yg cacat konstitusi. Jadi daripada ribut2, mundur adalah pilihan terbaik.\n",
      "\n",
      " Cluster 4\n",
      "- RT @hiwigOooagain: gak semulus itu kok orang wapresnya gibran wkaowkakwoak\n",
      "- RT @hiwigOooagain: gak semulus itu kok orang wapresnya gibran wkaowkakwoak\n",
      "\n",
      " Cluster 5\n",
      "- RT @OposisiCerdas: Kasus Ijazah Palsu Jokowi Bisa Seret Gibran, Roy Suryo Curigai Kejanggalan Riwayat Pendidikan Wapres https://t.co/D6Cmkl…\n",
      "- RT @Piyusaja2: BOLA PANAS PENCOPOTAN GIBRAN MAKIN BERGULIR... Hendropriyono Kasih Sinyal Kuat https://t.co/IutaPoxN1E\n",
      "- RT @04_zainal: Ahli Hukum Tatanegara Universitas Gajah Mada Zainal Arifin Muchtar \" ada 3 cara untuk memakzulkan Gibran salah satu ijazah n…\n",
      "- @InonkIskandar88 Sekalian periksa ijazahnya gibran\n",
      "- RT @BelengBeleng687: @Yoechan_ @DolfieOtay @baronko_cole @b3l4h4nh4t1ku_ @TukuQ_86300 @A5l1n9_4la_m_ @ArdieSuhardi321 @OktermanLkmn @se_rad…\n"
     ]
    }
   ],
   "source": [
    "import pandas as pd\n",
    "import re\n",
    "from sklearn.feature_extraction.text import TfidfVectorizer\n",
    "from sklearn.cluster import KMeans\n",
    "from Sastrawi.StopWordRemover.StopWordRemoverFactory import StopWordRemoverFactory\n",
    "\n",
    "# Load data\n",
    "df = pd.read_csv('c:/kelompok5_22230006.csv')\n",
    "tweets = df['Isi Tweet'].dropna().tolist()\n",
    "\n",
    "# Preprocessing ringan + hapus stopword Indonesia\n",
    "factory = StopWordRemoverFactory()\n",
    "stop_words = set(factory.get_stop_words())\n",
    "\n",
    "def preprocess(text):\n",
    "    text = re.sub(r\"http\\S+\", \"\", text) # hapus link\n",
    "    text = re.sub(r\"[^a-zA-Z\\s]\", \"\", text) # hapus simbol\n",
    "    text = text.lower()\n",
    "    tokens = text.split()\n",
    "    return ' '.join([w for w in tokens if w not in stop_words])\n",
    "\n",
    "tweets_cleaned = [preprocess(t) for t in tweets]\n",
    "\n",
    "# Vectorisasi\n",
    "vectorizer = TfidfVectorizer(max_df=0.8, min_df=2)\n",
    "X = vectorizer.fit_transform(tweets_cleaned)\n",
    "\n",
    "# Clustering\n",
    "k = 5\n",
    "model = KMeans(n_clusters=k, random_state=42)\n",
    "model.fit(X)\n",
    "\n",
    "# Tampilkan hasil\n",
    "for i in range(k):\n",
    "    print(f\"\\n Cluster {i+1}\")\n",
    "    indices = [j for j, label in enumerate(model.labels_) if label == i]\n",
    "    for idx in indices[:5]: # tampilkan 5 tweet pertama dari cluster ini\n",
    "        print(f\"- {tweets[idx]}\")"
   ]
  },
  {
   "cell_type": "code",
   "execution_count": null,
   "id": "830b8ac6-065e-4fd7-8f49-777b9f162aaf",
   "metadata": {},
   "outputs": [],
   "source": []
  },
  {
   "cell_type": "code",
   "execution_count": null,
   "id": "cde1b476-4787-4251-bc1c-a54dd5bbfb55",
   "metadata": {},
   "outputs": [],
   "source": []
  }
 ],
 "metadata": {
  "kernelspec": {
   "display_name": "Python [conda env:base] *",
   "language": "python",
   "name": "conda-base-py"
  },
  "language_info": {
   "codemirror_mode": {
    "name": "ipython",
    "version": 3
   },
   "file_extension": ".py",
   "mimetype": "text/x-python",
   "name": "python",
   "nbconvert_exporter": "python",
   "pygments_lexer": "ipython3",
   "version": "3.12.7"
  }
 },
 "nbformat": 4,
 "nbformat_minor": 5
}
